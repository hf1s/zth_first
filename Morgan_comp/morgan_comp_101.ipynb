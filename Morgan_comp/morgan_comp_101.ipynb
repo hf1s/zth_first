{
 "cells": [
  {
   "cell_type": "code",
   "execution_count": 1,
   "metadata": {},
   "outputs": [],
   "source": [
    "import pandas as pd\n",
    "from rdkit import rdBase, Chem, DataStructs\n",
    "from rdkit.Avalon import pyAvalonTools\n",
    "from rdkit.Chem import AllChem, Draw\n",
    "from rdkit.Chem.Fingerprints import FingerprintMols\n",
    "from rdkit.Chem.AtomPairs import Pairs, Torsions\n",
    "from rdkit.Chem.Draw import SimilarityMaps\n",
    "import numpy as np\n",
    "import matplotlib as mpl\n",
    "import matplotlib.pyplot as plt\n",
    "from random import random\n",
    "%matplotlib inline"
   ]
  },
  {
   "cell_type": "code",
   "execution_count": 2,
   "metadata": {},
   "outputs": [],
   "source": [
    "def morgan_index1_index2(index1 = 'morgan_index', index2 = 'troa_morgan_index',input=input):\n",
    "    mat = np.zeros((len(index1), len(index2)))\n",
    "    data_stati = []\n",
    "    for i in range(len(index1)):\n",
    "        for j in range(len(index2)):\n",
    "            m1 = index1[i][1]\n",
    "            m2 = index2[j][1]\n",
    "            mat[i][j]=DataStructs.DiceSimilarity(m1,m2)\n",
    "            data_stati.append(mat[i][j])\n",
    "            if mat[i][j]>input:\n",
    "                print([i,j,DataStructs.DiceSimilarity(m1,m2)])\n",
    "            else:\n",
    "                continue\n",
    "    return mat"
   ]
  },
  {
   "cell_type": "code",
   "execution_count": 3,
   "metadata": {},
   "outputs": [],
   "source": [
    "smilesinput = pd.read_csv('./pdb_ligand_smiles.csv')\n",
    "morgan_index = []\n",
    "for index,row in smilesinput.iterrows():\n",
    "    m = Chem.MolFromSmiles(row['smiles'])\n",
    "    fp = AllChem.GetMorganFingerprint(m,2)\n",
    "    morgan_index.append([m,fp])"
   ]
  },
  {
   "cell_type": "code",
   "execution_count": 4,
   "metadata": {},
   "outputs": [],
   "source": [
    "troa_morgan_index = []\n",
    "troazple_m = Chem.SDMolSupplier('./triazoles_all.sdf')\n",
    "for i in range(len(troazple_m)):\n",
    "    fp_troa = AllChem.GetMorganFingerprint(troazple_m[i],2)\n",
    "    troa_morgan_index.append([troazple_m[i],fp_troa])"
   ]
  },
  {
   "cell_type": "code",
   "execution_count": 6,
   "metadata": {},
   "outputs": [
    {
     "name": "stdout",
     "output_type": "stream",
     "text": [
      "[348, 579, 0.7079646017699115]\n",
      "[354, 918, 0.768]\n",
      "[403, 2666, 0.7252747252747253]\n",
      "[838, 2977, 0.725]\n"
     ]
    },
    {
     "data": {
      "text/plain": [
       "array([[0.13684211, 0.11578947, 0.11578947, ..., 0.03225806, 0.11702128,\n",
       "        0.1025641 ],\n",
       "       [0.13684211, 0.11578947, 0.11578947, ..., 0.03225806, 0.11702128,\n",
       "        0.1025641 ],\n",
       "       [0.10227273, 0.07954545, 0.07954545, ..., 0.03488372, 0.11494253,\n",
       "        0.06629834],\n",
       "       ...,\n",
       "       [0.256     , 0.304     , 0.304     , ..., 0.19834711, 0.29268293,\n",
       "        0.33846154],\n",
       "       [0.31007752, 0.24806202, 0.24806202, ..., 0.176     , 0.23622047,\n",
       "        0.2238806 ],\n",
       "       [0.22352941, 0.18823529, 0.18823529, ..., 0.14457831, 0.21428571,\n",
       "        0.16      ]])"
      ]
     },
     "execution_count": 6,
     "metadata": {},
     "output_type": "execute_result"
    }
   ],
   "source": [
    "morgan_index1_index2(morgan_index,troa_morgan_index,0.7)"
   ]
  },
  {
   "cell_type": "code",
   "execution_count": 22,
   "metadata": {},
   "outputs": [
    {
     "data": {
      "image/png": "[encoded data removed]",
      "text/plain": [
       "<IPython.core.display.Image object>"
      ]
     },
     "execution_count": 22,
     "metadata": {},
     "output_type": "execute_result"
    }
   ],
   "source": [
    "mols = []\n",
    "m_act = troa_morgan_index[918][0]\n",
    "m_sam = morgan_index[354][0]\n",
    "mols.append(m_act)\n",
    "mols.append(m_sam)\n",
    "Draw.MolsToGridImage(\n",
    "    mols,\n",
    "    subImgSize=(200,200),\n",
    "    legends=['' for x in mols]\n",
    ")\n"
   ]
  },
  {
   "cell_type": "code",
   "execution_count": null,
   "metadata": {},
   "outputs": [],
   "source": []
  }
 ],
 "metadata": {
  "kernelspec": {
   "display_name": "zth3cl",
   "language": "python",
   "name": "python3"
  },
  "language_info": {
   "codemirror_mode": {
    "name": "ipython",
    "version": 3
   },
   "file_extension": ".py",
   "mimetype": "text/x-python",
   "name": "python",
   "nbconvert_exporter": "python",
   "pygments_lexer": "ipython3",
   "version": "3.7.16"
  },
  "orig_nbformat": 4
 },
 "nbformat": 4,
 "nbformat_minor": 2
}
