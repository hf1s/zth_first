{
 "cells": [
  {
   "cell_type": "code",
   "execution_count": 122,
   "metadata": {},
   "outputs": [],
   "source": [
    "from typing import Optional\n",
    "import os\n",
    "from tqdm import tqdm\n",
    "import shutil\n",
    "from glob import glob"
   ]
  },
  {
   "cell_type": "code",
   "execution_count": 39,
   "metadata": {},
   "outputs": [],
   "source": [
    "def get_median(data):\n",
    "    data = sorted(data)\n",
    "    if len(data) % 2 == 0:\n",
    "        return (data[len(data) // 2] + data[len(data) // 2 - 1]) / 2\n",
    "    else:\n",
    "        return data[len(data) // 2]"
   ]
  },
  {
   "cell_type": "code",
   "execution_count": 123,
   "metadata": {},
   "outputs": [],
   "source": [
    "def result_del(entry_id='5SS5',result_nmb='1'):\n",
    "    name = os.listdir(f'./gett_pdb/{entry_id}/{entry_id}_mol2/ligand/')[0]\n",
    "    with open(f'./gett_pdb/{entry_id}/{entry_id}_mol2/ligand/{name}') as f:\n",
    "        line = f.readlines()\n",
    "    x_cor = []\n",
    "    y_cor = []\n",
    "    z_cor = []\n",
    "    for i in line:\n",
    "        x_cor.append(float(i[30:38].strip()))\n",
    "        y_cor.append(float(i[38:46].strip()))\n",
    "        z_cor.append(float(i[46:54].strip()))\n",
    "    x_median = get_median(x_cor)\n",
    "    y_median = get_median(y_cor)\n",
    "    z_median = get_median(z_cor)\n",
    "    with open(f'./gett_pdb/{entry_id}/{entry_id}_result/{entry_id}_new_cavity_{result_nmb}.pdb') as f:\n",
    "        line_reslut = f.readlines()\n",
    "        del line_reslut[-1:]\n",
    "    x_box = []\n",
    "    y_box = []\n",
    "    z_box = []\n",
    "    for j in line_reslut:\n",
    "        x_box.append(float(j[30:38].strip()))\n",
    "        y_box.append(float(j[38:46].strip()))\n",
    "        z_box.append(float(j[46:54].strip()))\n",
    "    x_max= max(x_box)-1.5\n",
    "    x_min= min(x_box)+1.5\n",
    "    y_max= max(y_box)-1.5\n",
    "    y_min= min(y_box)+1.5\n",
    "    z_max= max(z_box)-1.5\n",
    "    z_min= min(z_box)+1.5\n",
    "    x2_max= max(x_box)-2.5\n",
    "    x2_min= min(x_box)+2.5\n",
    "    y2_max= max(y_box)-2.5\n",
    "    y2_min= min(y_box)+2.5\n",
    "    z2_max= max(z_box)-2.5\n",
    "    z2_min= min(z_box)+2.5\n",
    "    if x_median > x2_min and x_median < x2_max and y_median > y2_min and y_median < y2_max and z_median > z2_min and z_median < z2_max:\n",
    "        pass\n",
    "    elif x_median > x_min and x_median < x_max and y_median > y_min and y_median < y_max and z_median > z_min and z_median < z_max:\n",
    "        os.mkdir(f'./gett_pdb/doubt_cavity_result/{entry_id}')\n",
    "        shutil.move(f'./gett_pdb/{entry_id}/{entry_id}_result/{entry_id}_new_cavity_{result_nmb}.pdb',f'./gett_pdb/doubt_cavity_result/{entry_id}/{entry_id}_new_cavity_{result_nmb}.pdb')\n",
    "        shutil.move(f'./gett_pdb/{entry_id}/{entry_id}_result/{entry_id}_new_surface_{result_nmb}.pdb',f'./gett_pdb/doubt_cavity_result/{entry_id}/{entry_id}_new_surface_{result_nmb}.pdb')\n",
    "        shutil.move(f'./gett_pdb/{entry_id}/{entry_id}_result/{entry_id}_new_vacant_{result_nmb}.pdb',f'./gett_pdb/doubt_cavity_result/{entry_id}/{entry_id}_new_vacant_{result_nmb}.pdb')\n",
    "    else:\n",
    "        os.remove(f'./gett_pdb/{entry_id}/{entry_id}_result/{entry_id}_new_cavity_{result_nmb}.pdb')\n",
    "        os.remove(f'./gett_pdb/{entry_id}/{entry_id}_result/{entry_id}_new_surface_{result_nmb}.pdb')\n",
    "        os.remove(f'./gett_pdb/{entry_id}/{entry_id}_result/{entry_id}_new_vacant_{result_nmb}.pdb')\n",
    "    "
   ]
  },
  {
   "cell_type": "code",
   "execution_count": 124,
   "metadata": {},
   "outputs": [],
   "source": [
    "result_del(entry_id='7N7U',result_nmb='1')\n",
    "result_del(entry_id='7N7U',result_nmb='5')"
   ]
  },
  {
   "cell_type": "code",
   "execution_count": 125,
   "metadata": {},
   "outputs": [],
   "source": [
    "def cavity_result_del(entry_id='5SS5'):   \n",
    "    if os.path.exists(f'./gett_pdb/{entry_id}/{entry_id}_result/'):\n",
    "        result_nmb=[]\n",
    "        for j in os.listdir(f'./gett_pdb/{entry_id}/{entry_id}_result/'):\n",
    "            if j[-5:-4] not in result_nmb:\n",
    "                result_nmb.append(j[-5:-4])\n",
    "        for k in result_nmb:\n",
    "            result_del(entry_id=entry_id,result_nmb=k)\n",
    "    else:\n",
    "        pass"
   ]
  },
  {
   "cell_type": "code",
   "execution_count": 126,
   "metadata": {},
   "outputs": [],
   "source": [
    "with open('./gett_pdb/true_pdb_id.csv', 'r') as f:\n",
    "    text = f.read()\n",
    "pdb_ids = text.split(',')"
   ]
  },
  {
   "cell_type": "code",
   "execution_count": 127,
   "metadata": {},
   "outputs": [
    {
     "name": "stderr",
     "output_type": "stream",
     "text": [
      "100%|██████████| 1496/1496 [00:00<00:00, 8733.09it/s]\n"
     ]
    }
   ],
   "source": [
    "for i in tqdm(pdb_ids):\n",
    "    cavity_result_del(entry_id=i)"
   ]
  },
  {
   "cell_type": "code",
   "execution_count": 138,
   "metadata": {},
   "outputs": [
    {
     "name": "stderr",
     "output_type": "stream",
     "text": [
      "100%|██████████| 1496/1496 [00:00<00:00, 155490.88it/s]\n"
     ]
    }
   ],
   "source": [
    "empty_result=[]\n",
    "sup_result=[]\n",
    "true_result=[]\n",
    "for entry_id in tqdm(pdb_ids):\n",
    "    if os.path.exists(f'./gett_pdb/{entry_id}/{entry_id}_result/'):\n",
    "        if len(os.listdir(f'./gett_pdb/{entry_id}/{entry_id}_result/'))<3:\n",
    "            empty_result.append(entry_id)\n",
    "        elif len(os.listdir(f'./gett_pdb/{entry_id}/{entry_id}_result/'))>3:\n",
    "            sup_result.append(entry_id)\n",
    "        else:\n",
    "            true_result.append(entry_id)\n"
   ]
  },
  {
   "cell_type": "code",
   "execution_count": 134,
   "metadata": {},
   "outputs": [],
   "source": [
    "with open('./error_list/cavity_empty_list.txt', 'w') as f:\n",
    "    for i in empty_result:\n",
    "        f.write(i + ',')"
   ]
  },
  {
   "cell_type": "code",
   "execution_count": 139,
   "metadata": {},
   "outputs": [],
   "source": [
    "with open('./error_list/true_cavity_result_list.txt', 'w') as f:\n",
    "    for i in true_result:\n",
    "        f.write(i + ',')"
   ]
  },
  {
   "cell_type": "code",
   "execution_count": null,
   "metadata": {},
   "outputs": [],
   "source": [
    "with open('./error_list/cavity_super_list.txt', 'w') as f:\n",
    "    for i in sup_result:\n",
    "        f.write(i + ',')"
   ]
  }
 ],
 "metadata": {
  "kernelspec": {
   "display_name": "zth3cl",
   "language": "python",
   "name": "python3"
  },
  "language_info": {
   "codemirror_mode": {
    "name": "ipython",
    "version": 3
   },
   "file_extension": ".py",
   "mimetype": "text/x-python",
   "name": "python",
   "nbconvert_exporter": "python",
   "pygments_lexer": "ipython3",
   "version": "3.7.16"
  },
  "orig_nbformat": 4
 },
 "nbformat": 4,
 "nbformat_minor": 2
}
