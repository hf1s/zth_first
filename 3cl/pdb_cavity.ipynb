{
 "cells": [
  {
   "cell_type": "code",
   "execution_count": 13,
   "metadata": {},
   "outputs": [],
   "source": [
    "from typing import Optional\n",
    "import os\n",
    "import time\n",
    "import pandas as pd\n",
    "from tqdm import tqdm"
   ]
  },
  {
   "cell_type": "code",
   "execution_count": 14,
   "metadata": {},
   "outputs": [],
   "source": [
    "def pdb_ligand_name(entry_id='3R24'):\n",
    "    ligand_id=[]\n",
    "    pdb_path=os.listdir(f'../3cl/gett_pdb/{entry_id}/')\n",
    "    for i in pdb_path:\n",
    "        if i.endswith('.sdf'):\n",
    "            ligand_id.append(i[:-10])\n",
    "    return ligand_id"
   ]
  },
  {
   "cell_type": "code",
   "execution_count": 15,
   "metadata": {},
   "outputs": [
    {
     "data": {
      "text/plain": [
       "['SAM', 'ZN']"
      ]
     },
     "execution_count": 15,
     "metadata": {},
     "output_type": "execute_result"
    }
   ],
   "source": [
    "pdb_ligand_name(entry_id='3R24') "
   ]
  },
  {
   "cell_type": "code",
   "execution_count": 16,
   "metadata": {},
   "outputs": [],
   "source": [
    "with open('./gett_pdb/true_pdb_id.csv', 'r') as f:\n",
    "    text = f.read()\n",
    "pdb_ids = text.split(',')"
   ]
  },
  {
   "cell_type": "code",
   "execution_count": 17,
   "metadata": {},
   "outputs": [
    {
     "name": "stderr",
     "output_type": "stream",
     "text": [
      "100%|██████████| 1510/1510 [11:08<00:00,  2.26it/s]\n"
     ]
    }
   ],
   "source": [
    "for i in tqdm(pdb_ids):\n",
    "    if os.path.exists(f'../3cl/gett_pdb/{i}/{i}_mol2/ligand.mol2'):\n",
    "        ligand_command = f'cavity -r /home/pku/3cl/gett_pdb/{i}/{i}_mol2/{i}_new.pdb -l /home/pku/3cl/gett_pdb/{i}/{i}_mol2/ligand.mol2 -o /home/pku/3cl/gett_pdb/{i}/{i}_result'\n",
    "        try:\n",
    "            os.system(ligand_command)\n",
    "        except:\n",
    "            continue\n",
    "    else:\n",
    "        continue\n"
   ]
  },
  {
   "cell_type": "code",
   "execution_count": 20,
   "metadata": {},
   "outputs": [
    {
     "name": "stdout",
     "output_type": "stream",
     "text": [
      "cavity -r /home/pku/3cl/gett_pdb/5SS5/5SS5_mol2/5SS5_new.pdb -l /home/pku/3cl/gett_pdb/5SS5/5SS5_mol2/ligand.mol2 -o /home/pku/3cl/gett_pdb/5SS5/5SS5_result\n"
     ]
    },
    {
     "data": {
      "text/plain": [
       "0"
      ]
     },
     "execution_count": 20,
     "metadata": {},
     "output_type": "execute_result"
    }
   ],
   "source": [
    "ligand_id=pdb_ligand_name(entry_id='5SS5')\n",
    "i='5SS5'\n",
    "ligand_command = f'cavity -r /home/pku/3cl/gett_pdb/{i}/{i}_mol2/{i}_new.pdb -l /home/pku/3cl/gett_pdb/{i}/{i}_mol2/ligand.mol2 -o /home/pku/3cl/gett_pdb/{i}/{i}_result'\n",
    "print(ligand_command)\n",
    "os.system(ligand_command)  "
   ]
  }
 ],
 "metadata": {
  "kernelspec": {
   "display_name": "zth3cl",
   "language": "python",
   "name": "python3"
  },
  "language_info": {
   "codemirror_mode": {
    "name": "ipython",
    "version": 3
   },
   "file_extension": ".py",
   "mimetype": "text/x-python",
   "name": "python",
   "nbconvert_exporter": "python",
   "pygments_lexer": "ipython3",
   "version": "3.7.16"
  },
  "orig_nbformat": 4
 },
 "nbformat": 4,
 "nbformat_minor": 2
}
