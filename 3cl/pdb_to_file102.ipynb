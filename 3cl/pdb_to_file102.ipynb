{
 "cells": [
  {
   "cell_type": "code",
   "execution_count": 1,
   "metadata": {},
   "outputs": [],
   "source": [
    "import json\n",
    "import requests\n",
    "import warnings\n",
    "from typing import Optional\n",
    "import os\n",
    "import time\n",
    "import pandas as pd\n",
    "from tqdm import tqdm\n",
    "import shutil"
   ]
  },
  {
   "cell_type": "code",
   "execution_count": 6,
   "metadata": {},
   "outputs": [],
   "source": [
    "def pdb_to_pdbnew(pdb_id='7RFS'):\n",
    "    with open(f'./gett_pdb/{pdb_id}/{pdb_id}_mol2/{pdb_id}.pdb') as f:\n",
    "        line = f.readlines()\n",
    "    true_len = len(line)\n",
    "    for i in range(true_len):\n",
    "        if line[i][0:4] == 'ATOM':\n",
    "            del line[0:i]\n",
    "            break\n",
    "    for i in range(len(line)):\n",
    "        if line[i][0:6] == 'CONECT':\n",
    "            del line[i:]\n",
    "            break\n",
    "    line_w = []\n",
    "    for i in range(len(line)):\n",
    "        if line[i][0:4] == 'HETA':\n",
    "            chain_name = line[i+5][21]\n",
    "            break      \n",
    "    for i in range(len(line)):\n",
    "        if line[i][21] == chain_name:\n",
    "            line_w.append(line[i])\n",
    "    file_new = open(f'./gett_pdb/{pdb_id}/{pdb_id}_mol2/{pdb_id}_new.pdb', 'w')\n",
    "    file_new.writelines(line_w)\n",
    "    file_new.close()\n",
    "    os.mkdir(f'./gett_pdb/{pdb_id}/{pdb_id}_mol2/ligand/')\n",
    "    # 查找配体HETA所在的链并且只保留这条链对应的坐标"
   ]
  },
  {
   "cell_type": "code",
   "execution_count": 45,
   "metadata": {},
   "outputs": [],
   "source": [
    "def pdb_to_ligandpdb(pdb_id='7RFS',ligand_name = '4WI'):\n",
    "    line_w = []\n",
    "    with open(f'./gett_pdb/{pdb_id}/{pdb_id}_mol2/{pdb_id}_new.pdb') as f:\n",
    "        line = f.readlines()\n",
    "    true_len = len(line)\n",
    "    for i in range(true_len):\n",
    "        if line[i][0:4] == 'HETA':\n",
    "            ligand_num = line[i][23:27]\n",
    "            break\n",
    "    for i in range(true_len):\n",
    "        if line[i][0:4] == 'HETA':\n",
    "            if line[i][17:20] == ligand_name:\n",
    "                if line[i][23:27] == ligand_num:\n",
    "                    line_w.append(line[i])\n",
    "    if len(line_w) > 15:\n",
    "        file_new = open(f'./gett_pdb/{pdb_id}/{pdb_id}_mol2/ligand/{pdb_id}_{ligand_name}.pdb', 'w')\n",
    "        file_new.writelines(line_w)\n",
    "        file_new.close()\n",
    "    # 增加了对小分子配体()的判断,如果小分子配体的原子数大于15个,则认为是正确的配体,否则不是正确的配体\n",
    "    # 对于小分子配体,只保留一个配体的坐标\n"
   ]
  },
  {
   "cell_type": "code",
   "execution_count": 43,
   "metadata": {},
   "outputs": [
    {
     "data": {
      "text/plain": [
       "4096"
      ]
     },
     "execution_count": 43,
     "metadata": {},
     "output_type": "execute_result"
    }
   ],
   "source": [
    "pdb_id = '5SL8'\n",
    "os.path.getsize(f'./gett_pdb/{pdb_id}/{pdb_id}_mol2/')"
   ]
  },
  {
   "cell_type": "code",
   "execution_count": 44,
   "metadata": {},
   "outputs": [
    {
     "name": "stdout",
     "output_type": "stream",
     "text": [
      "401 \n"
     ]
    }
   ],
   "source": [
    "pdb_to_ligandpdb(pdb_id='5S6Y',ligand_name = 'WUJ')"
   ]
  },
  {
   "cell_type": "code",
   "execution_count": 27,
   "metadata": {},
   "outputs": [],
   "source": [
    "pdb_to_pdbnew(pdb_id='5S6Y')"
   ]
  },
  {
   "cell_type": "code",
   "execution_count": 51,
   "metadata": {},
   "outputs": [],
   "source": [
    "with open('./error_list/cavity_empty_list.txt', 'r') as f:\n",
    "    text = f.read()\n",
    "pdb_ids = text.split(',')"
   ]
  },
  {
   "cell_type": "code",
   "execution_count": 47,
   "metadata": {},
   "outputs": [
    {
     "name": "stderr",
     "output_type": "stream",
     "text": [
      "100%|██████████| 1510/1510 [00:00<00:00, 8391.89it/s]\n"
     ]
    }
   ],
   "source": [
    "# (删除mol2文件夹下的非pdb文件，慎用)\n",
    "# for i in tqdm(pdb_ids):\n",
    "#     try:\n",
    "#         pdb_id_path=os.listdir(f'./gett_pdb/{i}/')\n",
    "#         for j in pdb_id_path:\n",
    "#             if j[-4:] == 'mol2' or j[-4:]=='.sdf':\n",
    "#                 continue\n",
    "#             else:\n",
    "#                 shutil.rmtree(f'./gett_pdb/{i}/{j}')\n",
    "#         pdb_id_path2=os.listdir(f'./gett_pdb/{i}/{i}_mol2')\n",
    "#         for j in pdb_id_path2:\n",
    "#             if j ==f'{i}.pdb':\n",
    "#                 continue\n",
    "#             elif j[-4:] == '.pdb' or j[-5:]=='.mol2':\n",
    "#                  os.remove(f'./gett_pdb/{i}/{i}_mol2/{j}')\n",
    "#             else:\n",
    "#                 try:\n",
    "#                     shutil.rmtree(f'./gett_pdb/{i}/{i}_mol2/{j}')\n",
    "#                 except:\n",
    "#                     pass\n",
    "#     except:\n",
    "#         pass"
   ]
  },
  {
   "cell_type": "code",
   "execution_count": 53,
   "metadata": {},
   "outputs": [
    {
     "name": "stderr",
     "output_type": "stream",
     "text": [
      "100%|██████████| 722/722 [00:02<00:00, 327.06it/s]\n"
     ]
    }
   ],
   "source": [
    "for i in tqdm(pdb_ids):\n",
    "    try:\n",
    "        pdb_to_pdbnew(pdb_id=i)\n",
    "        os_listdir = os.listdir(f'./gett_pdb/{i}/')\n",
    "        for j in os_listdir:\n",
    "            if j[-4:] == '.sdf':\n",
    "                ligand_name=j[:-10]\n",
    "                pdb_to_ligandpdb(pdb_id=i,ligand_name = ligand_name)\n",
    "    except:\n",
    "        continue\n"
   ]
  },
  {
   "cell_type": "code",
   "execution_count": 50,
   "metadata": {},
   "outputs": [
    {
     "name": "stderr",
     "output_type": "stream",
     "text": [
      "100%|██████████| 1510/1510 [00:00<00:00, 142534.97it/s]\n"
     ]
    }
   ],
   "source": [
    "for i in tqdm(pdb_ids):\n",
    "    path = f'./gett_pdb/{i}/{i}_mol2/ligand/'\n",
    "    a = []\n",
    "    b={}\n",
    "    try:\n",
    "        for j in os.listdir(path):\n",
    "            a.append(os.path.getsize(f'./gett_pdb/{i}/{i}_mol2/ligand/{j}'))\n",
    "            b[j]=os.path.getsize(f'./gett_pdb/{i}/{i}_mol2/ligand/{j}')\n",
    "        c = max(a)\n",
    "        for k in b:\n",
    "            if b[k] == c:\n",
    "                continue\n",
    "            else:\n",
    "                os.remove(f'./gett_pdb/{i}/{i}_mol2/ligand/{k}')\n",
    "    except:\n",
    "        continue\n",
    "    # 保留配体最大的那个"
   ]
  },
  {
   "cell_type": "code",
   "execution_count": null,
   "metadata": {},
   "outputs": [],
   "source": []
  }
 ],
 "metadata": {
  "kernelspec": {
   "display_name": "zth3cl",
   "language": "python",
   "name": "python3"
  },
  "language_info": {
   "codemirror_mode": {
    "name": "ipython",
    "version": 3
   },
   "file_extension": ".py",
   "mimetype": "text/x-python",
   "name": "python",
   "nbconvert_exporter": "python",
   "pygments_lexer": "ipython3",
   "version": "3.7.16"
  },
  "orig_nbformat": 4
 },
 "nbformat": 4,
 "nbformat_minor": 2
}
