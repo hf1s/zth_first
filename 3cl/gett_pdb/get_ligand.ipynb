{
 "cells": [
  {
   "cell_type": "code",
   "execution_count": 51,
   "metadata": {},
   "outputs": [],
   "source": [
    "import os"
   ]
  },
  {
   "cell_type": "code",
   "execution_count": 61,
   "metadata": {},
   "outputs": [],
   "source": [
    "def ligand_pdbqt(entry_id='7t3y'):\n",
    "    pdb_paths = f'./{entry_id}'\n",
    "    # ligand_command = f'mk_prepare_ligand.py -i ./{entry_id}/F5L_ideal.sdf -o ./{entry_id}/F5L_ideal.pdbqt'\n",
    "    ligand_path = os.listdir(pdb_paths)\n",
    "    for i in ligand_path:\n",
    "        if os.path.exists(f'./{entry_id}/{i}'):\n",
    "            continue\n",
    "        else:\n",
    "            ligand_command = f'mk_prepare_ligand.py -i ./{entry_id}/{i} -o ./{entry_id}/{i[0:-4]}'+'.pdbqt'\n",
    "            # print(ligand_command)\n",
    "            os.system(ligand_command)\n",
    "            # cmd2 = 'ls'\n",
    "            # res = os.popen(cmd2)\n",
    "            # output_str = res.read()\n",
    "            # print(output_str)\n"
   ]
  },
  {
   "cell_type": "code",
   "execution_count": 62,
   "metadata": {},
   "outputs": [],
   "source": [
    "ligand_pdbqt('7T3Y')"
   ]
  },
  {
   "cell_type": "code",
   "execution_count": 94,
   "metadata": {},
   "outputs": [
    {
     "name": "stdout",
     "output_type": "stream",
     "text": [
      "\n"
     ]
    }
   ],
   "source": []
  }
 ],
 "metadata": {
  "kernelspec": {
   "display_name": "zth3cl",
   "language": "python",
   "name": "python3"
  },
  "language_info": {
   "codemirror_mode": {
    "name": "ipython",
    "version": 3
   },
   "file_extension": ".py",
   "mimetype": "text/x-python",
   "name": "python",
   "nbconvert_exporter": "python",
   "pygments_lexer": "ipython3",
   "version": "3.7.16"
  },
  "orig_nbformat": 4
 },
 "nbformat": 4,
 "nbformat_minor": 2
}
