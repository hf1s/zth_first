{
 "cells": [
  {
   "cell_type": "code",
   "execution_count": 84,
   "metadata": {},
   "outputs": [],
   "source": [
    "import os \n",
    "import pandas as pd\n",
    "import numpy as np\n",
    "from tqdm import tqdm\n",
    "import json\n",
    "import requests\n",
    "import warnings\n",
    "from typing import Optional\n",
    "import time"
   ]
  },
  {
   "cell_type": "code",
   "execution_count": 85,
   "metadata": {},
   "outputs": [],
   "source": [
    "def request_limited(url: str,\n",
    "                    rtype: str = \"GET\",\n",
    "                    num_attempts: int = 3,\n",
    "                    sleep_time=0.5,\n",
    "                    **kwargs) -> Optional[requests.models.Response]:\n",
    "    \"\"\"\n",
    "    HTML request with rate-limiting base on response code\n",
    "\n",
    "    \n",
    "    Parameters\n",
    "    ----------\n",
    "    url : str\n",
    "        The url for the request\n",
    "    rtype : str\n",
    "        The request type (oneof [\"GET\", \"POST\"])\n",
    "    num_attempts : int\n",
    "        In case of a failed retrieval, the number of attempts to try again\n",
    "    sleep_time : int\n",
    "        The amount of time to wait between requests, in case of\n",
    "        API rate limits\n",
    "    **kwargs : dict\n",
    "        The keyword arguments to pass to the request\n",
    "\n",
    "    Returns\n",
    "    -------\n",
    "\n",
    "    response : requests.models.Response\n",
    "        The server response object. Only returned if request was successful,\n",
    "        otherwise returns None.\n",
    "\n",
    "    \"\"\"\n",
    "\n",
    "    if rtype not in [\"GET\", \"POST\"]:\n",
    "        warnings.warn(\"Request type not recognized\")\n",
    "        return None\n",
    "\n",
    "    total_attempts = 0\n",
    "    while (total_attempts <= num_attempts):\n",
    "        if rtype == \"GET\":\n",
    "            response = requests.get(url, **kwargs)\n",
    "        elif rtype == \"POST\":\n",
    "            response = requests.post(url, **kwargs)\n",
    "\n",
    "        if response.status_code == 200:\n",
    "            return response\n",
    "\n",
    "        if response.status_code == 429:\n",
    "            curr_sleep = (1 + total_attempts) * sleep_time\n",
    "            warnings.warn(\"Too many requests, waiting \" + str(curr_sleep) +\n",
    "                          \" s\")\n",
    "            time.sleep(curr_sleep)\n",
    "        elif 500 <= response.status_code < 600:\n",
    "            warnings.warn(\"Server error encountered. Retrying\")\n",
    "        total_attempts += 1\n",
    "\n",
    "    warnings.warn(\"Too many failures on requests. Exiting...\")\n",
    "    return None\n",
    "\n",
    "\n",
    "def get_nonpolymer_bound_components(entry_id='7rfs', \n",
    "                                    url_root='https://data.rcsb.org/rest/v1/core/entry/'):\n",
    "    \n",
    "    url = url_root + entry_id\n",
    "    response = request_limited(url)\n",
    "    if response is None or response.status_code != 200:\n",
    "        warnings.warn(\"Retrieval failed, returning None\")\n",
    "        return None\n",
    "    result = str(response.text)\n",
    "    all_info = json.loads(result)\n",
    "    try:\n",
    "        ligands = all_info['pdbx_vrpt_summary']['restypes_notchecked_for_bond_angle_geometry']\n",
    "        return ligands\n",
    "    except:\n",
    "        warnings.warn(\"No ligands found, returning None\")\n",
    "        return None"
   ]
  },
  {
   "cell_type": "code",
   "execution_count": 99,
   "metadata": {},
   "outputs": [],
   "source": [
    "with open('./gett_pdb/pdbbid.csv', 'r') as f:\n",
    "    text = f.read()\n",
    "pdb_ids = text.split(',')"
   ]
  },
  {
   "cell_type": "code",
   "execution_count": 100,
   "metadata": {},
   "outputs": [],
   "source": [
    "no_ligand_stru_list=[]\n",
    "no_pdb_file_list=[]\n",
    "cavity_empty_list=[]\n",
    "true_list=[]\n",
    "for i in pdb_ids:\n",
    "    if os.path.exists(f'./gett_pdb/{i}'):\n",
    "        if os.path.exists(f'./gett_pdb/{i}/{i}_mol2'):\n",
    "            if os.path.exists(f'./gett_pdb/{i}/{i}_mol2/ligand.mol2'):\n",
    "                true_list.append(i)\n",
    "            else:\n",
    "                cavity_empty_list.append(i)\n",
    "        else:\n",
    "            no_pdb_file_list.append(i)\n",
    "    else:\n",
    "        no_ligand_stru_list.append(i)"
   ]
  },
  {
   "cell_type": "code",
   "execution_count": 101,
   "metadata": {},
   "outputs": [],
   "source": [
    "with open('./error_list/no_ligand_stru_list.txt', 'w') as f:\n",
    "    for i in no_ligand_stru_list:\n",
    "        f.write(i + ' ')"
   ]
  },
  {
   "cell_type": "code",
   "execution_count": 102,
   "metadata": {},
   "outputs": [],
   "source": [
    "with open('./error_list/no_pdb_file.txt', 'w') as f:\n",
    "    for i in no_pdb_file_list:\n",
    "        f.write(i + ',')"
   ]
  },
  {
   "cell_type": "code",
   "execution_count": 106,
   "metadata": {},
   "outputs": [],
   "source": [
    "with open('./error_list/no_cavity_list.txt', 'w') as f:\n",
    "    for i in cavity_empty_list:\n",
    "        f.write(i + ',')"
   ]
  },
  {
   "cell_type": "code",
   "execution_count": 105,
   "metadata": {},
   "outputs": [],
   "source": [
    "with open('./error_list/true_pdb_id.txt', 'w') as f:\n",
    "    for i in true_list:\n",
    "        f.write(i + ',')"
   ]
  },
  {
   "cell_type": "code",
   "execution_count": null,
   "metadata": {},
   "outputs": [],
   "source": []
  }
 ],
 "metadata": {
  "kernelspec": {
   "display_name": "zth3cl",
   "language": "python",
   "name": "python3"
  },
  "language_info": {
   "codemirror_mode": {
    "name": "ipython",
    "version": 3
   },
   "file_extension": ".py",
   "mimetype": "text/x-python",
   "name": "python",
   "nbconvert_exporter": "python",
   "pygments_lexer": "ipython3",
   "version": "3.7.16"
  },
  "orig_nbformat": 4
 },
 "nbformat": 4,
 "nbformat_minor": 2
}
