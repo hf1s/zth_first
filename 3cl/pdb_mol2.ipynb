{
 "cells": [
  {
   "cell_type": "code",
   "execution_count": 17,
   "metadata": {},
   "outputs": [],
   "source": [
    "from openbabel import openbabel as ob\n",
    "conv = ob.OBConversion()\n",
    "import os\n",
    "from tqdm import tqdm"
   ]
  },
  {
   "cell_type": "code",
   "execution_count": 18,
   "metadata": {},
   "outputs": [],
   "source": [
    "with open('./gett_pdb/true_pdb_id.csv', 'r') as f:\n",
    "    text = f.read()\n",
    "pdb_ids = text.split(',')"
   ]
  },
  {
   "cell_type": "code",
   "execution_count": 19,
   "metadata": {},
   "outputs": [
    {
     "name": "stderr",
     "output_type": "stream",
     "text": [
      "100%|██████████| 1510/1510 [00:00<00:00, 3697.68it/s]\n"
     ]
    }
   ],
   "source": [
    "for i in tqdm(pdb_ids):\n",
    "    if os.path.exists(f'./gett_pdb/{i}'):\n",
    "        try:\n",
    "            path_list = os.listdir(f'/home/pku/3cl/gett_pdb/{i}/{i}_mol2/ligand/')\n",
    "            conv.OpenInAndOutFiles(f'/home/pku/3cl/gett_pdb/{i}/{i}_mol2/ligand/{path_list[0]}', f'/home/pku/3cl/gett_pdb/{i}/{i}_mol2/ligand.mol2')\n",
    "            conv.SetInAndOutFormats('pdb', 'mol2')\n",
    "            conv.Convert()\n",
    "            conv.CloseOutFile()\n",
    "        except:\n",
    "            continue\n",
    "    else:\n",
    "        continue\n"
   ]
  },
  {
   "cell_type": "code",
   "execution_count": null,
   "metadata": {},
   "outputs": [],
   "source": [
    "entry_id = '7FR8'\n",
    "ligand_name='WXF'\n",
    "conv.OpenInAndOutFiles(f'/home/pku/3cl/gett_pdb/{entry_id}/{entry_id}_mol2/{entry_id}_{ligand_name}.pdb', f'/home/pku/3cl/gett_pdb/{entry_id}/{entry_id}_mol2/{entry_id}_{ligand_name}.mol2')\n",
    "conv.SetInAndOutFormats('pdb', 'mol2')\n",
    "conv.Convert()\n",
    "conv.CloseOutFile()"
   ]
  },
  {
   "cell_type": "code",
   "execution_count": null,
   "metadata": {},
   "outputs": [],
   "source": []
  }
 ],
 "metadata": {
  "kernelspec": {
   "display_name": "pymol",
   "language": "python",
   "name": "python3"
  },
  "language_info": {
   "codemirror_mode": {
    "name": "ipython",
    "version": 3
   },
   "file_extension": ".py",
   "mimetype": "text/x-python",
   "name": "python",
   "nbconvert_exporter": "python",
   "pygments_lexer": "ipython3",
   "version": "3.7.12"
  },
  "orig_nbformat": 4
 },
 "nbformat": 4,
 "nbformat_minor": 2
}
